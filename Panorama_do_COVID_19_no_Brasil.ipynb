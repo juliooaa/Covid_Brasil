{
  "nbformat": 4,
  "nbformat_minor": 0,
  "metadata": {
    "colab": {
      "name": "Copy of [Template] Panorama do COVID-19 no Brasil.ipynb",
      "provenance": [],
      "collapsed_sections": [],
      "include_colab_link": true
    },
    "kernelspec": {
      "name": "python3",
      "display_name": "Python 3"
    }
  },
  "cells": [
    {
      "cell_type": "markdown",
      "metadata": {
        "id": "view-in-github",
        "colab_type": "text"
      },
      "source": [
        "<a href=\"https://colab.research.google.com/github/juliooaa/Covid_Brasil/blob/master/Panorama_do_COVID_19_no_Brasil.ipynb\" target=\"_parent\"><img src=\"https://colab.research.google.com/assets/colab-badge.svg\" alt=\"Open In Colab\"/></a>"
      ]
    },
    {
      "cell_type": "markdown",
      "metadata": {
        "id": "kLI0gJtzDGuQ",
        "colab_type": "text"
      },
      "source": [
        "# Panorama do COVID-19 no Brasil\n",
        "\n",
        "COVID-19 é uma doença infecciosa causada por recém-descoberto coronavírus.\n",
        "\n",
        "Transmitido principalmente por meio de gotículas provenientes de tosses ou espirros de pessoas infectadas, a gravidade dos sintomas varia muito de pessoa para pessoa.\n",
        "\n",
        "Fato é, não se sabe muita coisa a respeito do COVID-19. Estudos estão sendo realizados no mundo todo, porém os resultados ainda não são conclusivos e definitivos.\n",
        "\n",
        "<center><img alt=\"Colaboratory logo\" width=\"50%\" src=\"https://raw.githubusercontent.com/carlosfab/dsnp2/master/img/covid19.jpg\"></center>\n",
        "\n",
        "Até o presente momento, observa-se que cerca de 80% dos casos confirmados são assintomáticos e rápidos. A maioria das pessoas que se encaixam nesse grupo, se recupera sem nenhuma sequela.\n",
        "\n",
        "No entanto, 15% das pessoas terão infecções graves e precisarão de oxigênio. O restante das pessoas, que representam 5%, serão classificadas como infecções muito graves e precisarão de ventilação assistida, por meio de respiradores mecânicos em ambiente hospitalar.\n",
        "\n",
        "Com o objetivo de elevar a consciência situacional a respeito do COVID-19 no Brasil, irei realizar uma análise sobre os dados públicos da doença."
      ]
    },
    {
      "cell_type": "markdown",
      "metadata": {
        "id": "0zxQHhIUDF_2",
        "colab_type": "text"
      },
      "source": [
        "# Obtenção dos Dados\n",
        "Os dados foram obtidos diretamente do [Our World in Data](https://ourworldindata.org/), uma organização sem fins lucrativos que tem como objetivo tornar o conhecimento sobre os grandes problemas acessível e compreensível. Eles são atualizados diariamente e inclui dados sobre casos confirmados, mortes e testes, além de outras variáveis ​​de interesse em potencial.\n",
        "\n",
        "Esta análise foi realizada no dia 05/07/2020, portanto, os insights obtidos se referem até essa data.\n",
        "\n",
        "Como o COVID-19 é uma doença muito nova, muito ainda não se sabe sob esse vírus e diversas pesquisas estão sendo realizadas paralelamente, existindo assim, uma grande dificuldade em ter uma base de dados únicas, havendo conflitos entre as diversas bases oficiais e não oficiais.\n",
        "\n",
        "## Dicionário de Variáveis\n",
        "* *Construa um dicionário de variáveis.*\n",
        "    * *iso_code: código de países*\n",
        "    * *continent: continente da localização geográfica*\n",
        "    * *location: localização geográfica*\n",
        "    * *date: data do ocorrido*\n",
        "    * *total_cases: número total de casos confirmados*\n",
        "    * *new_cases: novos casos confirmados de COVID-19*\n",
        "    * *total_deaths: número total de mortes*\n",
        "    * *new_deaths: novas mortes confimadas por COVID-19*\n",
        "    * *total_cases_per_million: total de casos confimados por 1.000.000 de pessoas*\n",
        "    * *new_cases_per_million: novos casos confirmados por 1.000.000 de pessoas*\n",
        "    * *total_deaths_per_million: total de mortes confirmadas por 1.000.000 de pessaos*\n",
        "    * *new_deaths_per_million: novas mortes por 1.000.000 de pessoas*\n",
        "    * *total_tests: total de testes*\n",
        "    * *new_tests: novos testes*\n",
        "    * *total_tests_per_thousand: total de testes por 1.000 pessoas*\n",
        "    * *new_tests_per_thousand: novos testes por 1.000 pessoas*\n",
        "    * *population: população em 2020*\n",
        "    * *population_density: número de pessoas divida pela área em quilômetros*\n",
        "    * *median_age: mediana da idade da população*\n",
        "    * *aged_65_older: parte da populaçao com mais de 65 anos*\n",
        "    * *aged_70_older: parte da população com mais de 75 anos*\n",
        "\n",
        "\n"
      ]
    },
    {
      "cell_type": "markdown",
      "metadata": {
        "id": "_x73_pSnSEbH",
        "colab_type": "text"
      },
      "source": [
        "## Gerando o Dataframe"
      ]
    },
    {
      "cell_type": "code",
      "metadata": {
        "id": "lOtEJxe0DMEb",
        "colab_type": "code",
        "colab": {
          "base_uri": "https://localhost:8080/",
          "height": 51
        },
        "outputId": "6c8352ae-dedd-433b-a081-00d89ba8d3df"
      },
      "source": [
        "# importar os pacotes necessários\n",
        "import pandas as pd\n",
        "import matplotlib.pyplot as plt\n",
        "import seaborn as sns\n",
        "\n",
        "# configurar a visualização\n",
        "sns.set_style()"
      ],
      "execution_count": 1,
      "outputs": [
        {
          "output_type": "stream",
          "text": [
            "/usr/local/lib/python3.6/dist-packages/statsmodels/tools/_testing.py:19: FutureWarning: pandas.util.testing is deprecated. Use the functions in the public API at pandas.testing instead.\n",
            "  import pandas.util.testing as tm\n"
          ],
          "name": "stderr"
        }
      ]
    },
    {
      "cell_type": "code",
      "metadata": {
        "id": "AXnNEI80QQCB",
        "colab_type": "code",
        "colab": {
          "base_uri": "https://localhost:8080/",
          "height": 51
        },
        "outputId": "08254921-6c69-4774-baab-4c952596c5b0"
      },
      "source": [
        "# importando os dados\n",
        "df = pd.read_csv(\"https://raw.githubusercontent.com/owid/covid-19-data/master/public/data/owid-covid-data.csv\")"
      ],
      "execution_count": 2,
      "outputs": [
        {
          "output_type": "stream",
          "text": [
            "/usr/local/lib/python3.6/dist-packages/IPython/core/interactiveshell.py:2718: DtypeWarning: Columns (1,18) have mixed types.Specify dtype option on import or set low_memory=False.\n",
            "  interactivity=interactivity, compiler=compiler, result=result)\n"
          ],
          "name": "stderr"
        }
      ]
    },
    {
      "cell_type": "markdown",
      "metadata": {
        "id": "qb5By2nIMS6m",
        "colab_type": "text"
      },
      "source": [
        "## Análise Exploratória dos Dados\n",
        "\n",
        "*Crie uma breve contextualização sobre o que será feito na fase de Análise Exploratória de Dados...*\n",
        "Nesra etapa iremos analisar como estão sendo representados os dados no nosso dataset, se existem inconsistências entre os dados, valores nulos, outliers...\n",
        "...\n",
        "\n",
        "Nesta etapa iremos entender os nossos dados utilizando de análises de como estão sendo representados os dados no nosso dataset, se existem inconsistências entre os dados, valores nulos, outliers...\n",
        "\n",
        "Ela é necessária para garantirmos a veracidade dos dados e, assim, garantir que os insights obtidos realmente representam a realidade\n",
        "...\n",
        "\n",
        "### Análise Exploratória Inicial\n",
        "\n",
        "* *Visualizar as 5 primeiras entradas*\n",
        "    * `df.head()`\n",
        "* *Qual o tamanho do seu DataFrame*\n",
        "    * `df.shape`\n",
        "* *Extrair e imprimir os nomes das colunas*\n",
        "    * `df.columns`\n",
        "* *Quais os tipos das variáveis*\n",
        "    * `df.dtypes`\n",
        "* *Identifique a porcentagem de valores ausentes das colunas*\n",
        "    * `df.isnull().sum() / df.shape[0]` ou\n",
        "    * `(df.isnull().sum() / df.shape[0]).sort_values(ascending=False)` *para ordem decrescente.*\n",
        "* *Transforme a coluna `date` no formato `datetime`*\n",
        "    * `df.date = pd.to_datetime(df.date)`\n",
        "* *Ver para a data mais atual, quais os países que têm mais casos e mortes. Veja o exemplo:*\n",
        "    * `df.loc[df.date == '2020-06-14'].sort_values(by=\"total_cases\", ascending=False)`\n",
        "    * `df.loc[df.date == '2020-06-14'].sort_values(by=\"total_deaths\", ascending=False)`\n",
        "* Plotar um gráfico de barras para os 5 países com mais mortes\n",
        "    * `df.loc[df.date == '2020-06-14', ['location', 'total_deaths']].sort_values(by=\"total_deaths\", ascending=False)[1:6]`\n",
        "    * `ax.bar('location', 'total_deaths', data=top5_total_deaths)`\n",
        "* Plotar um gráfico de linhas para ver a evolução do total de casos de COVID-19 no mundo.\n",
        "    * `df.loc[df.location == \"World\", \"total_deaths\"].reset_index(drop=True).plot()`\n",
        "* [OPCIONAL] Plotar um gráfico de dispersão considerando `gdp_per_capita` (ou seja, o PIB dos países) pelo número total de mortos. Pegue a data mais recente apenas.\n",
        "    * Lembre-se que não é nada conclusivo, pois envolve fatores como proporcão de testes, etc.\n"
      ]
    },
    {
      "cell_type": "markdown",
      "metadata": {
        "id": "__TfiNtiPPA6",
        "colab_type": "text"
      },
      "source": [
        "Vamos verificar as primeiras e últimas entradas, o tipo das variáveis e a porcentagem de valores nulos a fim de entendermos melhor o nosso dataset"
      ]
    },
    {
      "cell_type": "code",
      "metadata": {
        "id": "gO1fv3D1PS4k",
        "colab_type": "code",
        "colab": {
          "base_uri": "https://localhost:8080/",
          "height": 360
        },
        "outputId": "14df2c35-6c8b-42a1-c4fc-d1d7671677ea"
      },
      "source": [
        "# verificando as dimensões\n",
        "print('Dimensões do Dataset',\n",
        "      '\\nVariáveis: ', df.shape[1], '\\n'\n",
        "      'bEntradas: ', df.shape[0])\n",
        "\n",
        "# verificando as 5 primeiras entradas\n",
        "df.head()"
      ],
      "execution_count": 3,
      "outputs": [
        {
          "output_type": "stream",
          "text": [
            "Dimensões do Dataset \n",
            "Variáveis:  34 \n",
            "bEntradas:  32997\n"
          ],
          "name": "stdout"
        },
        {
          "output_type": "execute_result",
          "data": {
            "text/html": [
              "<div>\n",
              "<style scoped>\n",
              "    .dataframe tbody tr th:only-of-type {\n",
              "        vertical-align: middle;\n",
              "    }\n",
              "\n",
              "    .dataframe tbody tr th {\n",
              "        vertical-align: top;\n",
              "    }\n",
              "\n",
              "    .dataframe thead th {\n",
              "        text-align: right;\n",
              "    }\n",
              "</style>\n",
              "<table border=\"1\" class=\"dataframe\">\n",
              "  <thead>\n",
              "    <tr style=\"text-align: right;\">\n",
              "      <th></th>\n",
              "      <th>iso_code</th>\n",
              "      <th>continent</th>\n",
              "      <th>location</th>\n",
              "      <th>date</th>\n",
              "      <th>total_cases</th>\n",
              "      <th>new_cases</th>\n",
              "      <th>total_deaths</th>\n",
              "      <th>new_deaths</th>\n",
              "      <th>total_cases_per_million</th>\n",
              "      <th>new_cases_per_million</th>\n",
              "      <th>total_deaths_per_million</th>\n",
              "      <th>new_deaths_per_million</th>\n",
              "      <th>new_tests</th>\n",
              "      <th>total_tests</th>\n",
              "      <th>total_tests_per_thousand</th>\n",
              "      <th>new_tests_per_thousand</th>\n",
              "      <th>new_tests_smoothed</th>\n",
              "      <th>new_tests_smoothed_per_thousand</th>\n",
              "      <th>tests_units</th>\n",
              "      <th>stringency_index</th>\n",
              "      <th>population</th>\n",
              "      <th>population_density</th>\n",
              "      <th>median_age</th>\n",
              "      <th>aged_65_older</th>\n",
              "      <th>aged_70_older</th>\n",
              "      <th>gdp_per_capita</th>\n",
              "      <th>extreme_poverty</th>\n",
              "      <th>cardiovasc_death_rate</th>\n",
              "      <th>diabetes_prevalence</th>\n",
              "      <th>female_smokers</th>\n",
              "      <th>male_smokers</th>\n",
              "      <th>handwashing_facilities</th>\n",
              "      <th>hospital_beds_per_thousand</th>\n",
              "      <th>life_expectancy</th>\n",
              "    </tr>\n",
              "  </thead>\n",
              "  <tbody>\n",
              "    <tr>\n",
              "      <th>0</th>\n",
              "      <td>AFG</td>\n",
              "      <td>Asia</td>\n",
              "      <td>Afghanistan</td>\n",
              "      <td>2019-12-31</td>\n",
              "      <td>0.0</td>\n",
              "      <td>0.0</td>\n",
              "      <td>0.0</td>\n",
              "      <td>0.0</td>\n",
              "      <td>0.0</td>\n",
              "      <td>0.0</td>\n",
              "      <td>0.0</td>\n",
              "      <td>0.0</td>\n",
              "      <td>NaN</td>\n",
              "      <td>NaN</td>\n",
              "      <td>NaN</td>\n",
              "      <td>NaN</td>\n",
              "      <td>NaN</td>\n",
              "      <td>NaN</td>\n",
              "      <td>NaN</td>\n",
              "      <td>NaN</td>\n",
              "      <td>38928341.0</td>\n",
              "      <td>54.422</td>\n",
              "      <td>18.6</td>\n",
              "      <td>2.581</td>\n",
              "      <td>1.337</td>\n",
              "      <td>1803.987</td>\n",
              "      <td>NaN</td>\n",
              "      <td>597.029</td>\n",
              "      <td>9.59</td>\n",
              "      <td>NaN</td>\n",
              "      <td>NaN</td>\n",
              "      <td>37.746</td>\n",
              "      <td>0.5</td>\n",
              "      <td>64.83</td>\n",
              "    </tr>\n",
              "    <tr>\n",
              "      <th>1</th>\n",
              "      <td>AFG</td>\n",
              "      <td>Asia</td>\n",
              "      <td>Afghanistan</td>\n",
              "      <td>2020-01-01</td>\n",
              "      <td>0.0</td>\n",
              "      <td>0.0</td>\n",
              "      <td>0.0</td>\n",
              "      <td>0.0</td>\n",
              "      <td>0.0</td>\n",
              "      <td>0.0</td>\n",
              "      <td>0.0</td>\n",
              "      <td>0.0</td>\n",
              "      <td>NaN</td>\n",
              "      <td>NaN</td>\n",
              "      <td>NaN</td>\n",
              "      <td>NaN</td>\n",
              "      <td>NaN</td>\n",
              "      <td>NaN</td>\n",
              "      <td>NaN</td>\n",
              "      <td>0.0</td>\n",
              "      <td>38928341.0</td>\n",
              "      <td>54.422</td>\n",
              "      <td>18.6</td>\n",
              "      <td>2.581</td>\n",
              "      <td>1.337</td>\n",
              "      <td>1803.987</td>\n",
              "      <td>NaN</td>\n",
              "      <td>597.029</td>\n",
              "      <td>9.59</td>\n",
              "      <td>NaN</td>\n",
              "      <td>NaN</td>\n",
              "      <td>37.746</td>\n",
              "      <td>0.5</td>\n",
              "      <td>64.83</td>\n",
              "    </tr>\n",
              "    <tr>\n",
              "      <th>2</th>\n",
              "      <td>AFG</td>\n",
              "      <td>Asia</td>\n",
              "      <td>Afghanistan</td>\n",
              "      <td>2020-01-02</td>\n",
              "      <td>0.0</td>\n",
              "      <td>0.0</td>\n",
              "      <td>0.0</td>\n",
              "      <td>0.0</td>\n",
              "      <td>0.0</td>\n",
              "      <td>0.0</td>\n",
              "      <td>0.0</td>\n",
              "      <td>0.0</td>\n",
              "      <td>NaN</td>\n",
              "      <td>NaN</td>\n",
              "      <td>NaN</td>\n",
              "      <td>NaN</td>\n",
              "      <td>NaN</td>\n",
              "      <td>NaN</td>\n",
              "      <td>NaN</td>\n",
              "      <td>0.0</td>\n",
              "      <td>38928341.0</td>\n",
              "      <td>54.422</td>\n",
              "      <td>18.6</td>\n",
              "      <td>2.581</td>\n",
              "      <td>1.337</td>\n",
              "      <td>1803.987</td>\n",
              "      <td>NaN</td>\n",
              "      <td>597.029</td>\n",
              "      <td>9.59</td>\n",
              "      <td>NaN</td>\n",
              "      <td>NaN</td>\n",
              "      <td>37.746</td>\n",
              "      <td>0.5</td>\n",
              "      <td>64.83</td>\n",
              "    </tr>\n",
              "    <tr>\n",
              "      <th>3</th>\n",
              "      <td>AFG</td>\n",
              "      <td>Asia</td>\n",
              "      <td>Afghanistan</td>\n",
              "      <td>2020-01-03</td>\n",
              "      <td>0.0</td>\n",
              "      <td>0.0</td>\n",
              "      <td>0.0</td>\n",
              "      <td>0.0</td>\n",
              "      <td>0.0</td>\n",
              "      <td>0.0</td>\n",
              "      <td>0.0</td>\n",
              "      <td>0.0</td>\n",
              "      <td>NaN</td>\n",
              "      <td>NaN</td>\n",
              "      <td>NaN</td>\n",
              "      <td>NaN</td>\n",
              "      <td>NaN</td>\n",
              "      <td>NaN</td>\n",
              "      <td>NaN</td>\n",
              "      <td>0.0</td>\n",
              "      <td>38928341.0</td>\n",
              "      <td>54.422</td>\n",
              "      <td>18.6</td>\n",
              "      <td>2.581</td>\n",
              "      <td>1.337</td>\n",
              "      <td>1803.987</td>\n",
              "      <td>NaN</td>\n",
              "      <td>597.029</td>\n",
              "      <td>9.59</td>\n",
              "      <td>NaN</td>\n",
              "      <td>NaN</td>\n",
              "      <td>37.746</td>\n",
              "      <td>0.5</td>\n",
              "      <td>64.83</td>\n",
              "    </tr>\n",
              "    <tr>\n",
              "      <th>4</th>\n",
              "      <td>AFG</td>\n",
              "      <td>Asia</td>\n",
              "      <td>Afghanistan</td>\n",
              "      <td>2020-01-04</td>\n",
              "      <td>0.0</td>\n",
              "      <td>0.0</td>\n",
              "      <td>0.0</td>\n",
              "      <td>0.0</td>\n",
              "      <td>0.0</td>\n",
              "      <td>0.0</td>\n",
              "      <td>0.0</td>\n",
              "      <td>0.0</td>\n",
              "      <td>NaN</td>\n",
              "      <td>NaN</td>\n",
              "      <td>NaN</td>\n",
              "      <td>NaN</td>\n",
              "      <td>NaN</td>\n",
              "      <td>NaN</td>\n",
              "      <td>NaN</td>\n",
              "      <td>0.0</td>\n",
              "      <td>38928341.0</td>\n",
              "      <td>54.422</td>\n",
              "      <td>18.6</td>\n",
              "      <td>2.581</td>\n",
              "      <td>1.337</td>\n",
              "      <td>1803.987</td>\n",
              "      <td>NaN</td>\n",
              "      <td>597.029</td>\n",
              "      <td>9.59</td>\n",
              "      <td>NaN</td>\n",
              "      <td>NaN</td>\n",
              "      <td>37.746</td>\n",
              "      <td>0.5</td>\n",
              "      <td>64.83</td>\n",
              "    </tr>\n",
              "  </tbody>\n",
              "</table>\n",
              "</div>"
            ],
            "text/plain": [
              "  iso_code continent  ... hospital_beds_per_thousand life_expectancy\n",
              "0      AFG      Asia  ...                        0.5           64.83\n",
              "1      AFG      Asia  ...                        0.5           64.83\n",
              "2      AFG      Asia  ...                        0.5           64.83\n",
              "3      AFG      Asia  ...                        0.5           64.83\n",
              "4      AFG      Asia  ...                        0.5           64.83\n",
              "\n",
              "[5 rows x 34 columns]"
            ]
          },
          "metadata": {
            "tags": []
          },
          "execution_count": 3
        }
      ]
    },
    {
      "cell_type": "code",
      "metadata": {
        "id": "pMcGwKaI7wcn",
        "colab_type": "code",
        "colab": {
          "base_uri": "https://localhost:8080/",
          "height": 309
        },
        "outputId": "a80da5ce-797c-4b1d-fde3-5902d567f722"
      },
      "source": [
        "# verificando o final do dataset\n",
        "df.tail()"
      ],
      "execution_count": 4,
      "outputs": [
        {
          "output_type": "execute_result",
          "data": {
            "text/html": [
              "<div>\n",
              "<style scoped>\n",
              "    .dataframe tbody tr th:only-of-type {\n",
              "        vertical-align: middle;\n",
              "    }\n",
              "\n",
              "    .dataframe tbody tr th {\n",
              "        vertical-align: top;\n",
              "    }\n",
              "\n",
              "    .dataframe thead th {\n",
              "        text-align: right;\n",
              "    }\n",
              "</style>\n",
              "<table border=\"1\" class=\"dataframe\">\n",
              "  <thead>\n",
              "    <tr style=\"text-align: right;\">\n",
              "      <th></th>\n",
              "      <th>iso_code</th>\n",
              "      <th>continent</th>\n",
              "      <th>location</th>\n",
              "      <th>date</th>\n",
              "      <th>total_cases</th>\n",
              "      <th>new_cases</th>\n",
              "      <th>total_deaths</th>\n",
              "      <th>new_deaths</th>\n",
              "      <th>total_cases_per_million</th>\n",
              "      <th>new_cases_per_million</th>\n",
              "      <th>total_deaths_per_million</th>\n",
              "      <th>new_deaths_per_million</th>\n",
              "      <th>new_tests</th>\n",
              "      <th>total_tests</th>\n",
              "      <th>total_tests_per_thousand</th>\n",
              "      <th>new_tests_per_thousand</th>\n",
              "      <th>new_tests_smoothed</th>\n",
              "      <th>new_tests_smoothed_per_thousand</th>\n",
              "      <th>tests_units</th>\n",
              "      <th>stringency_index</th>\n",
              "      <th>population</th>\n",
              "      <th>population_density</th>\n",
              "      <th>median_age</th>\n",
              "      <th>aged_65_older</th>\n",
              "      <th>aged_70_older</th>\n",
              "      <th>gdp_per_capita</th>\n",
              "      <th>extreme_poverty</th>\n",
              "      <th>cardiovasc_death_rate</th>\n",
              "      <th>diabetes_prevalence</th>\n",
              "      <th>female_smokers</th>\n",
              "      <th>male_smokers</th>\n",
              "      <th>handwashing_facilities</th>\n",
              "      <th>hospital_beds_per_thousand</th>\n",
              "      <th>life_expectancy</th>\n",
              "    </tr>\n",
              "  </thead>\n",
              "  <tbody>\n",
              "    <tr>\n",
              "      <th>32992</th>\n",
              "      <td>NaN</td>\n",
              "      <td>NaN</td>\n",
              "      <td>International</td>\n",
              "      <td>2020-02-28</td>\n",
              "      <td>705.0</td>\n",
              "      <td>0.0</td>\n",
              "      <td>4.0</td>\n",
              "      <td>0.0</td>\n",
              "      <td>NaN</td>\n",
              "      <td>NaN</td>\n",
              "      <td>NaN</td>\n",
              "      <td>NaN</td>\n",
              "      <td>NaN</td>\n",
              "      <td>NaN</td>\n",
              "      <td>NaN</td>\n",
              "      <td>NaN</td>\n",
              "      <td>NaN</td>\n",
              "      <td>NaN</td>\n",
              "      <td>NaN</td>\n",
              "      <td>NaN</td>\n",
              "      <td>NaN</td>\n",
              "      <td>NaN</td>\n",
              "      <td>NaN</td>\n",
              "      <td>NaN</td>\n",
              "      <td>NaN</td>\n",
              "      <td>NaN</td>\n",
              "      <td>NaN</td>\n",
              "      <td>NaN</td>\n",
              "      <td>NaN</td>\n",
              "      <td>NaN</td>\n",
              "      <td>NaN</td>\n",
              "      <td>NaN</td>\n",
              "      <td>NaN</td>\n",
              "      <td>NaN</td>\n",
              "    </tr>\n",
              "    <tr>\n",
              "      <th>32993</th>\n",
              "      <td>NaN</td>\n",
              "      <td>NaN</td>\n",
              "      <td>International</td>\n",
              "      <td>2020-02-29</td>\n",
              "      <td>705.0</td>\n",
              "      <td>0.0</td>\n",
              "      <td>6.0</td>\n",
              "      <td>2.0</td>\n",
              "      <td>NaN</td>\n",
              "      <td>NaN</td>\n",
              "      <td>NaN</td>\n",
              "      <td>NaN</td>\n",
              "      <td>NaN</td>\n",
              "      <td>NaN</td>\n",
              "      <td>NaN</td>\n",
              "      <td>NaN</td>\n",
              "      <td>NaN</td>\n",
              "      <td>NaN</td>\n",
              "      <td>NaN</td>\n",
              "      <td>NaN</td>\n",
              "      <td>NaN</td>\n",
              "      <td>NaN</td>\n",
              "      <td>NaN</td>\n",
              "      <td>NaN</td>\n",
              "      <td>NaN</td>\n",
              "      <td>NaN</td>\n",
              "      <td>NaN</td>\n",
              "      <td>NaN</td>\n",
              "      <td>NaN</td>\n",
              "      <td>NaN</td>\n",
              "      <td>NaN</td>\n",
              "      <td>NaN</td>\n",
              "      <td>NaN</td>\n",
              "      <td>NaN</td>\n",
              "    </tr>\n",
              "    <tr>\n",
              "      <th>32994</th>\n",
              "      <td>NaN</td>\n",
              "      <td>NaN</td>\n",
              "      <td>International</td>\n",
              "      <td>2020-03-01</td>\n",
              "      <td>705.0</td>\n",
              "      <td>0.0</td>\n",
              "      <td>6.0</td>\n",
              "      <td>0.0</td>\n",
              "      <td>NaN</td>\n",
              "      <td>NaN</td>\n",
              "      <td>NaN</td>\n",
              "      <td>NaN</td>\n",
              "      <td>NaN</td>\n",
              "      <td>NaN</td>\n",
              "      <td>NaN</td>\n",
              "      <td>NaN</td>\n",
              "      <td>NaN</td>\n",
              "      <td>NaN</td>\n",
              "      <td>NaN</td>\n",
              "      <td>NaN</td>\n",
              "      <td>NaN</td>\n",
              "      <td>NaN</td>\n",
              "      <td>NaN</td>\n",
              "      <td>NaN</td>\n",
              "      <td>NaN</td>\n",
              "      <td>NaN</td>\n",
              "      <td>NaN</td>\n",
              "      <td>NaN</td>\n",
              "      <td>NaN</td>\n",
              "      <td>NaN</td>\n",
              "      <td>NaN</td>\n",
              "      <td>NaN</td>\n",
              "      <td>NaN</td>\n",
              "      <td>NaN</td>\n",
              "    </tr>\n",
              "    <tr>\n",
              "      <th>32995</th>\n",
              "      <td>NaN</td>\n",
              "      <td>NaN</td>\n",
              "      <td>International</td>\n",
              "      <td>2020-03-02</td>\n",
              "      <td>705.0</td>\n",
              "      <td>0.0</td>\n",
              "      <td>6.0</td>\n",
              "      <td>0.0</td>\n",
              "      <td>NaN</td>\n",
              "      <td>NaN</td>\n",
              "      <td>NaN</td>\n",
              "      <td>NaN</td>\n",
              "      <td>NaN</td>\n",
              "      <td>NaN</td>\n",
              "      <td>NaN</td>\n",
              "      <td>NaN</td>\n",
              "      <td>NaN</td>\n",
              "      <td>NaN</td>\n",
              "      <td>NaN</td>\n",
              "      <td>NaN</td>\n",
              "      <td>NaN</td>\n",
              "      <td>NaN</td>\n",
              "      <td>NaN</td>\n",
              "      <td>NaN</td>\n",
              "      <td>NaN</td>\n",
              "      <td>NaN</td>\n",
              "      <td>NaN</td>\n",
              "      <td>NaN</td>\n",
              "      <td>NaN</td>\n",
              "      <td>NaN</td>\n",
              "      <td>NaN</td>\n",
              "      <td>NaN</td>\n",
              "      <td>NaN</td>\n",
              "      <td>NaN</td>\n",
              "    </tr>\n",
              "    <tr>\n",
              "      <th>32996</th>\n",
              "      <td>NaN</td>\n",
              "      <td>NaN</td>\n",
              "      <td>International</td>\n",
              "      <td>2020-03-10</td>\n",
              "      <td>696.0</td>\n",
              "      <td>-9.0</td>\n",
              "      <td>7.0</td>\n",
              "      <td>1.0</td>\n",
              "      <td>NaN</td>\n",
              "      <td>NaN</td>\n",
              "      <td>NaN</td>\n",
              "      <td>NaN</td>\n",
              "      <td>NaN</td>\n",
              "      <td>NaN</td>\n",
              "      <td>NaN</td>\n",
              "      <td>NaN</td>\n",
              "      <td>NaN</td>\n",
              "      <td>NaN</td>\n",
              "      <td>NaN</td>\n",
              "      <td>NaN</td>\n",
              "      <td>NaN</td>\n",
              "      <td>NaN</td>\n",
              "      <td>NaN</td>\n",
              "      <td>NaN</td>\n",
              "      <td>NaN</td>\n",
              "      <td>NaN</td>\n",
              "      <td>NaN</td>\n",
              "      <td>NaN</td>\n",
              "      <td>NaN</td>\n",
              "      <td>NaN</td>\n",
              "      <td>NaN</td>\n",
              "      <td>NaN</td>\n",
              "      <td>NaN</td>\n",
              "      <td>NaN</td>\n",
              "    </tr>\n",
              "  </tbody>\n",
              "</table>\n",
              "</div>"
            ],
            "text/plain": [
              "      iso_code continent  ... hospital_beds_per_thousand life_expectancy\n",
              "32992      NaN       NaN  ...                        NaN             NaN\n",
              "32993      NaN       NaN  ...                        NaN             NaN\n",
              "32994      NaN       NaN  ...                        NaN             NaN\n",
              "32995      NaN       NaN  ...                        NaN             NaN\n",
              "32996      NaN       NaN  ...                        NaN             NaN\n",
              "\n",
              "[5 rows x 34 columns]"
            ]
          },
          "metadata": {
            "tags": []
          },
          "execution_count": 4
        }
      ]
    },
    {
      "cell_type": "markdown",
      "metadata": {
        "id": "eQI2uILpfdC2",
        "colab_type": "text"
      },
      "source": [
        "Já podemos observar que existem muitos registros que os dados relacionados ao COVID são 0, provavelmente nas datas em que foram populados ainda não tinha registros de casos nesses países.\n",
        "\n",
        "Além disso, existem registros que não representam muitas informações como é o caso de registro com 'location' igual a Internacional.\n",
        "\n",
        "Já podemos observar também a presença de valores nulos no nosso dataset."
      ]
    },
    {
      "cell_type": "code",
      "metadata": {
        "id": "HigBf3dGgS1x",
        "colab_type": "code",
        "colab": {
          "base_uri": "https://localhost:8080/",
          "height": 612
        },
        "outputId": "d524149f-d3e4-45f4-bb24-6e0a9bf7ba7f"
      },
      "source": [
        "df.dtypes"
      ],
      "execution_count": 5,
      "outputs": [
        {
          "output_type": "execute_result",
          "data": {
            "text/plain": [
              "iso_code                            object\n",
              "continent                           object\n",
              "location                            object\n",
              "date                                object\n",
              "total_cases                        float64\n",
              "new_cases                          float64\n",
              "total_deaths                       float64\n",
              "new_deaths                         float64\n",
              "total_cases_per_million            float64\n",
              "new_cases_per_million              float64\n",
              "total_deaths_per_million           float64\n",
              "new_deaths_per_million             float64\n",
              "new_tests                          float64\n",
              "total_tests                        float64\n",
              "total_tests_per_thousand           float64\n",
              "new_tests_per_thousand             float64\n",
              "new_tests_smoothed                 float64\n",
              "new_tests_smoothed_per_thousand    float64\n",
              "tests_units                         object\n",
              "stringency_index                   float64\n",
              "population                         float64\n",
              "population_density                 float64\n",
              "median_age                         float64\n",
              "aged_65_older                      float64\n",
              "aged_70_older                      float64\n",
              "gdp_per_capita                     float64\n",
              "extreme_poverty                    float64\n",
              "cardiovasc_death_rate              float64\n",
              "diabetes_prevalence                float64\n",
              "female_smokers                     float64\n",
              "male_smokers                       float64\n",
              "handwashing_facilities             float64\n",
              "hospital_beds_per_thousand         float64\n",
              "life_expectancy                    float64\n",
              "dtype: object"
            ]
          },
          "metadata": {
            "tags": []
          },
          "execution_count": 5
        }
      ]
    },
    {
      "cell_type": "markdown",
      "metadata": {
        "id": "iowr8cGYgv0C",
        "colab_type": "text"
      },
      "source": [
        "Ao verificar os tipos da variáveis observa-se que a coluna 'date' está como object, sendo necessário tranformá-la em datetime"
      ]
    },
    {
      "cell_type": "code",
      "metadata": {
        "id": "Knu9WjJUg-tQ",
        "colab_type": "code",
        "colab": {
          "base_uri": "https://localhost:8080/",
          "height": 612
        },
        "outputId": "f8ae25c6-4ab3-44aa-fdd8-bf9550306c8d"
      },
      "source": [
        "df.date = pd.to_datetime(df.date)\n",
        "df.dtypes"
      ],
      "execution_count": 6,
      "outputs": [
        {
          "output_type": "execute_result",
          "data": {
            "text/plain": [
              "iso_code                                   object\n",
              "continent                                  object\n",
              "location                                   object\n",
              "date                               datetime64[ns]\n",
              "total_cases                               float64\n",
              "new_cases                                 float64\n",
              "total_deaths                              float64\n",
              "new_deaths                                float64\n",
              "total_cases_per_million                   float64\n",
              "new_cases_per_million                     float64\n",
              "total_deaths_per_million                  float64\n",
              "new_deaths_per_million                    float64\n",
              "new_tests                                 float64\n",
              "total_tests                               float64\n",
              "total_tests_per_thousand                  float64\n",
              "new_tests_per_thousand                    float64\n",
              "new_tests_smoothed                        float64\n",
              "new_tests_smoothed_per_thousand           float64\n",
              "tests_units                                object\n",
              "stringency_index                          float64\n",
              "population                                float64\n",
              "population_density                        float64\n",
              "median_age                                float64\n",
              "aged_65_older                             float64\n",
              "aged_70_older                             float64\n",
              "gdp_per_capita                            float64\n",
              "extreme_poverty                           float64\n",
              "cardiovasc_death_rate                     float64\n",
              "diabetes_prevalence                       float64\n",
              "female_smokers                            float64\n",
              "male_smokers                              float64\n",
              "handwashing_facilities                    float64\n",
              "hospital_beds_per_thousand                float64\n",
              "life_expectancy                           float64\n",
              "dtype: object"
            ]
          },
          "metadata": {
            "tags": []
          },
          "execution_count": 6
        }
      ]
    },
    {
      "cell_type": "code",
      "metadata": {
        "id": "iEUdu6lBYTW7",
        "colab_type": "code",
        "colab": {
          "base_uri": "https://localhost:8080/",
          "height": 221
        },
        "outputId": "03d557e1-b811-493f-db48-71ce10a5cc7a"
      },
      "source": [
        "df.columns"
      ],
      "execution_count": 7,
      "outputs": [
        {
          "output_type": "execute_result",
          "data": {
            "text/plain": [
              "Index(['iso_code', 'continent', 'location', 'date', 'total_cases', 'new_cases',\n",
              "       'total_deaths', 'new_deaths', 'total_cases_per_million',\n",
              "       'new_cases_per_million', 'total_deaths_per_million',\n",
              "       'new_deaths_per_million', 'new_tests', 'total_tests',\n",
              "       'total_tests_per_thousand', 'new_tests_per_thousand',\n",
              "       'new_tests_smoothed', 'new_tests_smoothed_per_thousand', 'tests_units',\n",
              "       'stringency_index', 'population', 'population_density', 'median_age',\n",
              "       'aged_65_older', 'aged_70_older', 'gdp_per_capita', 'extreme_poverty',\n",
              "       'cardiovasc_death_rate', 'diabetes_prevalence', 'female_smokers',\n",
              "       'male_smokers', 'handwashing_facilities', 'hospital_beds_per_thousand',\n",
              "       'life_expectancy'],\n",
              "      dtype='object')"
            ]
          },
          "metadata": {
            "tags": []
          },
          "execution_count": 7
        }
      ]
    },
    {
      "cell_type": "markdown",
      "metadata": {
        "id": "CCyYPmgshwKE",
        "colab_type": "text"
      },
      "source": [
        "Vamos analisar agora a quantidade e a porcentagem de valores nulos no nosso dataset"
      ]
    },
    {
      "cell_type": "code",
      "metadata": {
        "id": "-LyN2NhJh0pm",
        "colab_type": "code",
        "colab": {
          "base_uri": "https://localhost:8080/",
          "height": 612
        },
        "outputId": "9510dc5c-1878-47ab-ddcc-b5f5276bf119"
      },
      "source": [
        "(df.isnull().sum()).sort_values(ascending=False)"
      ],
      "execution_count": 8,
      "outputs": [
        {
          "output_type": "execute_result",
          "data": {
            "text/plain": [
              "new_tests_per_thousand             22596\n",
              "new_tests                          22596\n",
              "total_tests_per_thousand           22350\n",
              "total_tests                        22350\n",
              "new_tests_smoothed_per_thousand    21477\n",
              "new_tests_smoothed                 21477\n",
              "tests_units                        20709\n",
              "handwashing_facilities             19417\n",
              "extreme_poverty                    13376\n",
              "male_smokers                        9684\n",
              "female_smokers                      9402\n",
              "stringency_index                    6313\n",
              "hospital_beds_per_thousand          5974\n",
              "aged_65_older                       3725\n",
              "gdp_per_capita                      3655\n",
              "aged_70_older                       3448\n",
              "median_age                          3295\n",
              "cardiovasc_death_rate               3286\n",
              "diabetes_prevalence                 2279\n",
              "population_density                  1485\n",
              "life_expectancy                      460\n",
              "new_deaths_per_million               419\n",
              "total_deaths_per_million             419\n",
              "new_cases_per_million                419\n",
              "total_cases_per_million              419\n",
              "new_deaths                           355\n",
              "total_deaths                         355\n",
              "new_cases                            355\n",
              "total_cases                          355\n",
              "continent                            274\n",
              "population                            64\n",
              "iso_code                              64\n",
              "date                                   0\n",
              "location                               0\n",
              "dtype: int64"
            ]
          },
          "metadata": {
            "tags": []
          },
          "execution_count": 8
        }
      ]
    },
    {
      "cell_type": "code",
      "metadata": {
        "id": "TVv1L0a6Fh5I",
        "colab_type": "code",
        "colab": {
          "base_uri": "https://localhost:8080/",
          "height": 612
        },
        "outputId": "20102e07-5934-4d13-f7b0-f1696d1f79a5"
      },
      "source": [
        "round((df.isnull().sum() / df.shape[0]).sort_values(ascending=False),2)"
      ],
      "execution_count": 11,
      "outputs": [
        {
          "output_type": "execute_result",
          "data": {
            "text/plain": [
              "new_tests_per_thousand             0.68\n",
              "new_tests                          0.68\n",
              "total_tests_per_thousand           0.68\n",
              "total_tests                        0.68\n",
              "new_tests_smoothed_per_thousand    0.65\n",
              "new_tests_smoothed                 0.65\n",
              "tests_units                        0.63\n",
              "handwashing_facilities             0.59\n",
              "extreme_poverty                    0.41\n",
              "male_smokers                       0.29\n",
              "female_smokers                     0.28\n",
              "stringency_index                   0.19\n",
              "hospital_beds_per_thousand         0.18\n",
              "aged_65_older                      0.11\n",
              "gdp_per_capita                     0.11\n",
              "aged_70_older                      0.10\n",
              "median_age                         0.10\n",
              "cardiovasc_death_rate              0.10\n",
              "diabetes_prevalence                0.07\n",
              "population_density                 0.05\n",
              "life_expectancy                    0.01\n",
              "new_deaths_per_million             0.01\n",
              "total_deaths_per_million           0.01\n",
              "new_cases_per_million              0.01\n",
              "total_cases_per_million            0.01\n",
              "new_deaths                         0.01\n",
              "total_deaths                       0.01\n",
              "new_cases                          0.01\n",
              "total_cases                        0.01\n",
              "continent                          0.01\n",
              "population                         0.00\n",
              "iso_code                           0.00\n",
              "date                               0.00\n",
              "location                           0.00\n",
              "dtype: float64"
            ]
          },
          "metadata": {
            "tags": []
          },
          "execution_count": 11
        }
      ]
    },
    {
      "cell_type": "markdown",
      "metadata": {
        "id": "MX-kGGGTGez1",
        "colab_type": "text"
      },
      "source": [
        "Percebemos que algumas colunas tem uma alta proporção de valores nulos, para garantir a integridade dos insights não iremos utilizá-las nas análises"
      ]
    },
    {
      "cell_type": "markdown",
      "metadata": {
        "id": "tRLTy8uvGtGI",
        "colab_type": "text"
      },
      "source": [
        "Vamos descobrir quais os países com maior número de doentes e de mortes"
      ]
    },
    {
      "cell_type": "code",
      "metadata": {
        "id": "tywdTLqxG2gw",
        "colab_type": "code",
        "colab": {
          "base_uri": "https://localhost:8080/",
          "height": 359
        },
        "outputId": "e6c05145-fd2d-4cbe-af58-035dc22cee45"
      },
      "source": [
        "df.loc[df.date == '2020-07-05'][['location', 'total_deaths']].sort_values(by='total_deaths', ascending=False)[1:11].reset_index(drop=True)"
      ],
      "execution_count": 12,
      "outputs": [
        {
          "output_type": "execute_result",
          "data": {
            "text/html": [
              "<div>\n",
              "<style scoped>\n",
              "    .dataframe tbody tr th:only-of-type {\n",
              "        vertical-align: middle;\n",
              "    }\n",
              "\n",
              "    .dataframe tbody tr th {\n",
              "        vertical-align: top;\n",
              "    }\n",
              "\n",
              "    .dataframe thead th {\n",
              "        text-align: right;\n",
              "    }\n",
              "</style>\n",
              "<table border=\"1\" class=\"dataframe\">\n",
              "  <thead>\n",
              "    <tr style=\"text-align: right;\">\n",
              "      <th></th>\n",
              "      <th>location</th>\n",
              "      <th>total_deaths</th>\n",
              "    </tr>\n",
              "  </thead>\n",
              "  <tbody>\n",
              "    <tr>\n",
              "      <th>0</th>\n",
              "      <td>United States</td>\n",
              "      <td>129676.0</td>\n",
              "    </tr>\n",
              "    <tr>\n",
              "      <th>1</th>\n",
              "      <td>Brazil</td>\n",
              "      <td>64265.0</td>\n",
              "    </tr>\n",
              "    <tr>\n",
              "      <th>2</th>\n",
              "      <td>United Kingdom</td>\n",
              "      <td>44198.0</td>\n",
              "    </tr>\n",
              "    <tr>\n",
              "      <th>3</th>\n",
              "      <td>Italy</td>\n",
              "      <td>34854.0</td>\n",
              "    </tr>\n",
              "    <tr>\n",
              "      <th>4</th>\n",
              "      <td>Mexico</td>\n",
              "      <td>30366.0</td>\n",
              "    </tr>\n",
              "    <tr>\n",
              "      <th>5</th>\n",
              "      <td>France</td>\n",
              "      <td>29893.0</td>\n",
              "    </tr>\n",
              "    <tr>\n",
              "      <th>6</th>\n",
              "      <td>Spain</td>\n",
              "      <td>28385.0</td>\n",
              "    </tr>\n",
              "    <tr>\n",
              "      <th>7</th>\n",
              "      <td>India</td>\n",
              "      <td>19268.0</td>\n",
              "    </tr>\n",
              "    <tr>\n",
              "      <th>8</th>\n",
              "      <td>Iran</td>\n",
              "      <td>11408.0</td>\n",
              "    </tr>\n",
              "    <tr>\n",
              "      <th>9</th>\n",
              "      <td>Peru</td>\n",
              "      <td>10412.0</td>\n",
              "    </tr>\n",
              "  </tbody>\n",
              "</table>\n",
              "</div>"
            ],
            "text/plain": [
              "         location  total_deaths\n",
              "0   United States      129676.0\n",
              "1          Brazil       64265.0\n",
              "2  United Kingdom       44198.0\n",
              "3           Italy       34854.0\n",
              "4          Mexico       30366.0\n",
              "5          France       29893.0\n",
              "6           Spain       28385.0\n",
              "7           India       19268.0\n",
              "8            Iran       11408.0\n",
              "9            Peru       10412.0"
            ]
          },
          "metadata": {
            "tags": []
          },
          "execution_count": 12
        }
      ]
    },
    {
      "cell_type": "code",
      "metadata": {
        "id": "dFgZ87Q7a1Tv",
        "colab_type": "code",
        "colab": {
          "base_uri": "https://localhost:8080/",
          "height": 359
        },
        "outputId": "9a180ac0-6dc7-41e1-85f9-6466cb58c976"
      },
      "source": [
        "df.loc[df.date == '2020-07-05'][['location', 'total_cases']].sort_values(by='total_cases', ascending=False)[1:11].reset_index(drop=True)"
      ],
      "execution_count": null,
      "outputs": [
        {
          "output_type": "execute_result",
          "data": {
            "text/html": [
              "<div>\n",
              "<style scoped>\n",
              "    .dataframe tbody tr th:only-of-type {\n",
              "        vertical-align: middle;\n",
              "    }\n",
              "\n",
              "    .dataframe tbody tr th {\n",
              "        vertical-align: top;\n",
              "    }\n",
              "\n",
              "    .dataframe thead th {\n",
              "        text-align: right;\n",
              "    }\n",
              "</style>\n",
              "<table border=\"1\" class=\"dataframe\">\n",
              "  <thead>\n",
              "    <tr style=\"text-align: right;\">\n",
              "      <th></th>\n",
              "      <th>location</th>\n",
              "      <th>total_cases</th>\n",
              "    </tr>\n",
              "  </thead>\n",
              "  <tbody>\n",
              "    <tr>\n",
              "      <th>0</th>\n",
              "      <td>United States</td>\n",
              "      <td>2839542.0</td>\n",
              "    </tr>\n",
              "    <tr>\n",
              "      <th>1</th>\n",
              "      <td>Brazil</td>\n",
              "      <td>1577004.0</td>\n",
              "    </tr>\n",
              "    <tr>\n",
              "      <th>2</th>\n",
              "      <td>Russia</td>\n",
              "      <td>674515.0</td>\n",
              "    </tr>\n",
              "    <tr>\n",
              "      <th>3</th>\n",
              "      <td>India</td>\n",
              "      <td>673165.0</td>\n",
              "    </tr>\n",
              "    <tr>\n",
              "      <th>4</th>\n",
              "      <td>Peru</td>\n",
              "      <td>299080.0</td>\n",
              "    </tr>\n",
              "    <tr>\n",
              "      <th>5</th>\n",
              "      <td>Chile</td>\n",
              "      <td>291847.0</td>\n",
              "    </tr>\n",
              "    <tr>\n",
              "      <th>6</th>\n",
              "      <td>United Kingdom</td>\n",
              "      <td>284900.0</td>\n",
              "    </tr>\n",
              "    <tr>\n",
              "      <th>7</th>\n",
              "      <td>Mexico</td>\n",
              "      <td>252165.0</td>\n",
              "    </tr>\n",
              "    <tr>\n",
              "      <th>8</th>\n",
              "      <td>Spain</td>\n",
              "      <td>250545.0</td>\n",
              "    </tr>\n",
              "    <tr>\n",
              "      <th>9</th>\n",
              "      <td>Italy</td>\n",
              "      <td>241419.0</td>\n",
              "    </tr>\n",
              "  </tbody>\n",
              "</table>\n",
              "</div>"
            ],
            "text/plain": [
              "         location  total_cases\n",
              "0   United States    2839542.0\n",
              "1          Brazil    1577004.0\n",
              "2          Russia     674515.0\n",
              "3           India     673165.0\n",
              "4            Peru     299080.0\n",
              "5           Chile     291847.0\n",
              "6  United Kingdom     284900.0\n",
              "7          Mexico     252165.0\n",
              "8           Spain     250545.0\n",
              "9           Italy     241419.0"
            ]
          },
          "metadata": {
            "tags": []
          },
          "execution_count": 47
        }
      ]
    },
    {
      "cell_type": "markdown",
      "metadata": {
        "id": "vL_9VhmtflJv",
        "colab_type": "text"
      },
      "source": [
        "Analisarei também os países que aprensentam maior número de novos casos e mortes"
      ]
    },
    {
      "cell_type": "code",
      "metadata": {
        "id": "nwQr0dubfyL3",
        "colab_type": "code",
        "colab": {
          "base_uri": "https://localhost:8080/",
          "height": 359
        },
        "outputId": "1d75031b-70a4-402e-ed1f-5e689acf7777"
      },
      "source": [
        "df.loc[df.date == '2020-07-05'][['location', 'new_cases']].sort_values(by='new_cases', ascending=False)[1:11].reset_index(drop=True)"
      ],
      "execution_count": null,
      "outputs": [
        {
          "output_type": "execute_result",
          "data": {
            "text/html": [
              "<div>\n",
              "<style scoped>\n",
              "    .dataframe tbody tr th:only-of-type {\n",
              "        vertical-align: middle;\n",
              "    }\n",
              "\n",
              "    .dataframe tbody tr th {\n",
              "        vertical-align: top;\n",
              "    }\n",
              "\n",
              "    .dataframe thead th {\n",
              "        text-align: right;\n",
              "    }\n",
              "</style>\n",
              "<table border=\"1\" class=\"dataframe\">\n",
              "  <thead>\n",
              "    <tr style=\"text-align: right;\">\n",
              "      <th></th>\n",
              "      <th>location</th>\n",
              "      <th>new_cases</th>\n",
              "    </tr>\n",
              "  </thead>\n",
              "  <tbody>\n",
              "    <tr>\n",
              "      <th>0</th>\n",
              "      <td>United States</td>\n",
              "      <td>45221.0</td>\n",
              "    </tr>\n",
              "    <tr>\n",
              "      <th>1</th>\n",
              "      <td>Brazil</td>\n",
              "      <td>37923.0</td>\n",
              "    </tr>\n",
              "    <tr>\n",
              "      <th>2</th>\n",
              "      <td>India</td>\n",
              "      <td>24850.0</td>\n",
              "    </tr>\n",
              "    <tr>\n",
              "      <th>3</th>\n",
              "      <td>South Africa</td>\n",
              "      <td>10853.0</td>\n",
              "    </tr>\n",
              "    <tr>\n",
              "      <th>4</th>\n",
              "      <td>Mexico</td>\n",
              "      <td>6914.0</td>\n",
              "    </tr>\n",
              "    <tr>\n",
              "      <th>5</th>\n",
              "      <td>Russia</td>\n",
              "      <td>6632.0</td>\n",
              "    </tr>\n",
              "    <tr>\n",
              "      <th>6</th>\n",
              "      <td>Saudi Arabia</td>\n",
              "      <td>4128.0</td>\n",
              "    </tr>\n",
              "    <tr>\n",
              "      <th>7</th>\n",
              "      <td>Colombia</td>\n",
              "      <td>3884.0</td>\n",
              "    </tr>\n",
              "    <tr>\n",
              "      <th>8</th>\n",
              "      <td>Chile</td>\n",
              "      <td>3758.0</td>\n",
              "    </tr>\n",
              "    <tr>\n",
              "      <th>9</th>\n",
              "      <td>Peru</td>\n",
              "      <td>3481.0</td>\n",
              "    </tr>\n",
              "  </tbody>\n",
              "</table>\n",
              "</div>"
            ],
            "text/plain": [
              "        location  new_cases\n",
              "0  United States    45221.0\n",
              "1         Brazil    37923.0\n",
              "2          India    24850.0\n",
              "3   South Africa    10853.0\n",
              "4         Mexico     6914.0\n",
              "5         Russia     6632.0\n",
              "6   Saudi Arabia     4128.0\n",
              "7       Colombia     3884.0\n",
              "8          Chile     3758.0\n",
              "9           Peru     3481.0"
            ]
          },
          "metadata": {
            "tags": []
          },
          "execution_count": 48
        }
      ]
    },
    {
      "cell_type": "code",
      "metadata": {
        "id": "ImLadDSLgmri",
        "colab_type": "code",
        "colab": {
          "base_uri": "https://localhost:8080/",
          "height": 359
        },
        "outputId": "fb012b07-b128-4df0-cc0f-0c7666f660b9"
      },
      "source": [
        "df.loc[df.date == '2020-07-05'][['location', 'new_deaths']].sort_values(by='new_deaths', ascending=False)[1:11].reset_index(drop=True)"
      ],
      "execution_count": null,
      "outputs": [
        {
          "output_type": "execute_result",
          "data": {
            "text/html": [
              "<div>\n",
              "<style scoped>\n",
              "    .dataframe tbody tr th:only-of-type {\n",
              "        vertical-align: middle;\n",
              "    }\n",
              "\n",
              "    .dataframe tbody tr th {\n",
              "        vertical-align: top;\n",
              "    }\n",
              "\n",
              "    .dataframe thead th {\n",
              "        text-align: right;\n",
              "    }\n",
              "</style>\n",
              "<table border=\"1\" class=\"dataframe\">\n",
              "  <thead>\n",
              "    <tr style=\"text-align: right;\">\n",
              "      <th></th>\n",
              "      <th>location</th>\n",
              "      <th>new_deaths</th>\n",
              "    </tr>\n",
              "  </thead>\n",
              "  <tbody>\n",
              "    <tr>\n",
              "      <th>0</th>\n",
              "      <td>Brazil</td>\n",
              "      <td>1091.0</td>\n",
              "    </tr>\n",
              "    <tr>\n",
              "      <th>1</th>\n",
              "      <td>India</td>\n",
              "      <td>613.0</td>\n",
              "    </tr>\n",
              "    <tr>\n",
              "      <th>2</th>\n",
              "      <td>Mexico</td>\n",
              "      <td>523.0</td>\n",
              "    </tr>\n",
              "    <tr>\n",
              "      <th>3</th>\n",
              "      <td>United States</td>\n",
              "      <td>242.0</td>\n",
              "    </tr>\n",
              "    <tr>\n",
              "      <th>4</th>\n",
              "      <td>Peru</td>\n",
              "      <td>186.0</td>\n",
              "    </tr>\n",
              "    <tr>\n",
              "      <th>5</th>\n",
              "      <td>Russia</td>\n",
              "      <td>168.0</td>\n",
              "    </tr>\n",
              "    <tr>\n",
              "      <th>6</th>\n",
              "      <td>Colombia</td>\n",
              "      <td>165.0</td>\n",
              "    </tr>\n",
              "    <tr>\n",
              "      <th>7</th>\n",
              "      <td>Iran</td>\n",
              "      <td>148.0</td>\n",
              "    </tr>\n",
              "    <tr>\n",
              "      <th>8</th>\n",
              "      <td>Chile</td>\n",
              "      <td>141.0</td>\n",
              "    </tr>\n",
              "    <tr>\n",
              "      <th>9</th>\n",
              "      <td>Iraq</td>\n",
              "      <td>106.0</td>\n",
              "    </tr>\n",
              "  </tbody>\n",
              "</table>\n",
              "</div>"
            ],
            "text/plain": [
              "        location  new_deaths\n",
              "0         Brazil      1091.0\n",
              "1          India       613.0\n",
              "2         Mexico       523.0\n",
              "3  United States       242.0\n",
              "4           Peru       186.0\n",
              "5         Russia       168.0\n",
              "6       Colombia       165.0\n",
              "7           Iran       148.0\n",
              "8          Chile       141.0\n",
              "9           Iraq       106.0"
            ]
          },
          "metadata": {
            "tags": []
          },
          "execution_count": 49
        }
      ]
    },
    {
      "cell_type": "markdown",
      "metadata": {
        "id": "-hNpOBF_vwOv",
        "colab_type": "text"
      },
      "source": [
        "Vamos plotar alguns gráficos para uma melhor visualização"
      ]
    },
    {
      "cell_type": "code",
      "metadata": {
        "id": "QWdpTlqBCLky",
        "colab_type": "code",
        "colab": {
          "base_uri": "https://localhost:8080/",
          "height": 729
        },
        "outputId": "bbefdf6a-d85a-42d0-c0c9-f7e599a27ed5"
      },
      "source": [
        "# grafico de barras para total de mortes\n",
        "\n",
        "top_5_total_deaths = df.loc[df.date == '2020-06-05', ['location', 'total_deaths']].sort_values(by=\"total_deaths\", ascending=False)[1:6]\n",
        "\n",
        "fig, ax = plt.subplots(figsize=(15,10))\n",
        "\n",
        "ax.bar('location', 'total_deaths', data=top_5_total_deaths)\n",
        "\n",
        "plt.tight_layout()"
      ],
      "execution_count": 14,
      "outputs": [
        {
          "output_type": "display_data",
          "data": {
            "image/png": "[encoded data removed]",
            "text/plain": [
              "<Figure size 1080x720 with 1 Axes>"
            ]
          },
          "metadata": {
            "tags": [],
            "needs_background": "light"
          }
        }
      ]
    },
    {
      "cell_type": "code",
      "metadata": {
        "id": "dxjyR5J37BLX",
        "colab_type": "code",
        "colab": {
          "base_uri": "https://localhost:8080/",
          "height": 297
        },
        "outputId": "5ec9b5d4-5a0f-4982-9e26-6a44c2db4347"
      },
      "source": [
        "fig, ax = plt.subplots()\n",
        "\n",
        "#gráfico de linhas para o total_deaths\n",
        "df_total_deaths = df.set_index('date')\n",
        "df_total_deaths.total_deaths.loc['2020-02-01':].plot(kind=\"line\", ax=ax)\n",
        "ax.set_title(\"Gráfico do Total de Mortes\")\n",
        "ax.set_ylabel(\"Total de mortes\")\n",
        "ax.set_xlabel(\"Data\")\n",
        "\n",
        "plt.tight_layout()\n",
        "\n"
      ],
      "execution_count": 13,
      "outputs": [
        {
          "output_type": "display_data",
          "data": {
            "image/png": "[encoded data removed]",
            "text/plain": [
              "<Figure size 432x288 with 1 Axes>"
            ]
          },
          "metadata": {
            "tags": [],
            "needs_background": "light"
          }
        }
      ]
    },
    {
      "cell_type": "code",
      "metadata": {
        "id": "2ZJq35CB78Uq",
        "colab_type": "code",
        "colab": {
          "base_uri": "https://localhost:8080/",
          "height": 297
        },
        "outputId": "4109dcb6-9c48-4269-d8df-7d95ebb0b151"
      },
      "source": [
        "fig, ax = plt.subplots()\n",
        "\n",
        "# gráfico de linhas para total_cases\n",
        "df_total_cases = df.set_index('date')\n",
        "df_total_cases.total_cases.plot(kind='line', ax=ax)\n",
        "\n",
        "plt.tight_layout()"
      ],
      "execution_count": null,
      "outputs": [
        {
          "output_type": "display_data",
          "data": {
            "image/png": "[encoded data removed]",
            "text/plain": [
              "<Figure size 432x288 with 1 Axes>"
            ]
          },
          "metadata": {
            "tags": [],
            "needs_background": "light"
          }
        }
      ]
    },
    {
      "cell_type": "code",
      "metadata": {
        "id": "15vhSqatzLmK",
        "colab_type": "code",
        "colab": {
          "base_uri": "https://localhost:8080/",
          "height": 297
        },
        "outputId": "c28009cd-eb90-4d6f-f631-7ce95e2c5dca"
      },
      "source": [
        "fig, ax = plt.subplots()\n",
        "\n",
        "df.loc[df.location == 'World'][['date', 'total_deaths']].set_index('date').plot(kind='line', ax=ax)\n",
        "\n",
        "plt.tight_layout()"
      ],
      "execution_count": null,
      "outputs": [
        {
          "output_type": "display_data",
          "data": {
            "image/png": "[encoded data removed]",
            "text/plain": [
              "<Figure size 432x288 with 1 Axes>"
            ]
          },
          "metadata": {
            "tags": [],
            "needs_background": "light"
          }
        }
      ]
    },
    {
      "cell_type": "code",
      "metadata": {
        "id": "UCI2SeMl9lke",
        "colab_type": "code",
        "colab": {
          "base_uri": "https://localhost:8080/",
          "height": 297
        },
        "outputId": "0b14188d-54d4-4acb-a18e-c86e37634f9d"
      },
      "source": [
        "fig, ax = plt.subplots()\n",
        "\n",
        "df_hist = df.loc[df.date == '2020-07-05'][['location', 'total_deaths', 'total_cases']].sort_values(by='total_deaths', ascending=False)[1:6]\n",
        "\n",
        "ax.hist('location', data=df_hist)\n",
        "\n",
        "plt.tight_layout()"
      ],
      "execution_count": null,
      "outputs": [
        {
          "output_type": "display_data",
          "data": {
            "image/png": "[encoded data removed]",
            "text/plain": [
              "<Figure size 432x288 with 1 Axes>"
            ]
          },
          "metadata": {
            "tags": [],
            "needs_background": "light"
          }
        }
      ]
    },
    {
      "cell_type": "markdown",
      "metadata": {
        "id": "SViA5VZ7DYLA",
        "colab_type": "text"
      },
      "source": [
        "### Análise Exploratória para o Brasil\n",
        "\n",
        "* Criar uma cópia do DataFrame apenas com o Brasil\n",
        "    * `df_brasil = df.loc[df.location == \"Brazil\"].copy()`\n",
        "* Identificar quando foi registrada a primeira morte no Brasil\n",
        "* Identificar quantos dias demorou para registrarmos a primeira morte, considerando o primeiro caso de COVID-19 registrado.\n",
        "* Plotar gráficos de linha em escalas linear e logarítmica para os casos totais e mortes totais."
      ]
    },
    {
      "cell_type": "code",
      "metadata": {
        "id": "UDQA502_hAwI",
        "colab_type": "code",
        "colab": {}
      },
      "source": [
        ""
      ],
      "execution_count": null,
      "outputs": []
    },
    {
      "cell_type": "markdown",
      "metadata": {
        "id": "LCsiXvM3BcsO",
        "colab_type": "text"
      },
      "source": [
        "## Conclusão\n",
        "\n",
        "*Escreva suas conclusões e análises sobre os dados relativos à COVID-19...*"
      ]
    }
  ]
}